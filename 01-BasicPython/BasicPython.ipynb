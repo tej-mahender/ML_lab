{
 "cells": [
  {
   "cell_type": "code",
   "execution_count": 2,
   "id": "823a9302-d6bf-4f70-9617-26228cd60096",
   "metadata": {},
   "outputs": [
    {
     "name": "stdout",
     "output_type": "stream",
     "text": [
      "Hello,Everyone\n",
      "1,2,3,4\n",
      "The value of a is: 5\n",
      "1 2 3 4\n",
      "1*2*3*4\n",
      "1#2#3#4&"
     ]
    }
   ],
   "source": [
    "#Python programs to demonstrate printing of a string\n",
    "\n",
    "print(\"Hello,Everyone\")\n",
    "print('1,2,3,4')\n",
    "a=5\n",
    "print(\"The value of a is:\",a)\n",
    "print(1,2,3,4)\n",
    "print(1,2,3,4,sep='*')\n",
    "print(1,2,3,4,sep='#',end='&')\n"
   ]
  },
  {
   "cell_type": "code",
   "execution_count": 9,
   "id": "94dbba9c-0a24-4901-8238-68b4e33bd5f0",
   "metadata": {},
   "outputs": [
    {
     "name": "stdout",
     "output_type": "stream",
     "text": [
      "10  3.146  Hello \n",
      "1  1  1 \n",
      "1  2.5  Hello \n"
     ]
    }
   ],
   "source": [
    "#Python program to demonstrate assigning values to variables\n",
    "\n",
    "var1=10 #integer\n",
    "var2=3.146 #float\n",
    "var3=\"Hello\"\n",
    "print(var1,'',var2,'',var3,'')\n",
    "\n",
    "#Assigning same value to multiple variables\n",
    "var1=var2=var3=1\n",
    "print(var1,'',var2,'',var3,'')\n",
    "\n",
    "#Assigning different values to variables in single expression\n",
    "var1,var2,var3 = 1,2.5,\"Hello\"\n",
    "print(var1,'',var2,'',var3,'')\n"
   ]
  },
  {
   "cell_type": "code",
   "execution_count": 24,
   "id": "61cd295c-dc0a-4288-92eb-a4e77946b0d8",
   "metadata": {},
   "outputs": [
    {
     "name": "stdin",
     "output_type": "stream",
     "text": [
      "Enter String:  hello\n"
     ]
    },
    {
     "name": "stdout",
     "output_type": "stream",
     "text": [
      "hello\n"
     ]
    },
    {
     "name": "stdin",
     "output_type": "stream",
     "text": [
      "Enter num:  67\n"
     ]
    },
    {
     "name": "stdout",
     "output_type": "stream",
     "text": [
      "67\n"
     ]
    },
    {
     "name": "stdin",
     "output_type": "stream",
     "text": [
      "Enter float integer:  18.90\n"
     ]
    },
    {
     "name": "stdout",
     "output_type": "stream",
     "text": [
      "18.9\n"
     ]
    }
   ],
   "source": [
    "#Python program to demonstrate input() function\n",
    "\n",
    "s = input(\"Enter String: \") #by default it takes every input as string\n",
    "print(s)\n",
    "\n",
    "num=int(input(\"Enter num: \")) #datatype is mentioned here\n",
    "print(num)\n",
    "\n",
    "num1=float(input(\"Enter float integer: \"))\n",
    "print(num1)"
   ]
  },
  {
   "cell_type": "code",
   "execution_count": 4,
   "id": "10ffda4a-38a3-4a6d-842e-bd105a6e3be1",
   "metadata": {},
   "outputs": [
    {
     "name": "stdout",
     "output_type": "stream",
     "text": [
      "<class 'int'>\n",
      "<class 'float'>\n",
      "<class 'complex'>\n",
      "c is a complex number: True\n"
     ]
    }
   ],
   "source": [
    "#Python program to demonstrate numeric datatype\n",
    "\n",
    "a=5\n",
    "print(type(a))\n",
    "b=40.5\n",
    "print(type(b))\n",
    "c=1+3j\n",
    "print(type(c))\n",
    "print(\"c is a complex number:\",isinstance(c,complex)) #verifies whether given number is variable or not"
   ]
  },
  {
   "cell_type": "code",
   "execution_count": 37,
   "id": "56663fe9-c402-47dc-b5d2-0053ff7d1e36",
   "metadata": {},
   "outputs": [
    {
     "name": "stdout",
     "output_type": "stream",
     "text": [
      "Hello World!\n",
      "H\n",
      "llo\n",
      "llo World!\n",
      "Hello World!Hello World!\n",
      "Hello World!TEST\n"
     ]
    }
   ],
   "source": [
    "#Python program to demonstrate string operations\n",
    "\n",
    "str='Hello World!'\n",
    "print(str) #prints complete string\n",
    "print(str[0]) #prints first character of string\n",
    "print(str[2:5]) #prints from index 2 to 4\n",
    "print(str[2:]) #prints from index 2 to end\n",
    "print(str*2) #prints string twice\n",
    "print(str+'TEST') "
   ]
  },
  {
   "cell_type": "code",
   "execution_count": 8,
   "id": "e1f46a1e-871f-4af8-8485-9f2c91381434",
   "metadata": {},
   "outputs": [
    {
     "name": "stdout",
     "output_type": "stream",
     "text": [
      "['a', 'b', 'c', 'd', 'e', 'f', 'g']\n",
      "b\n",
      "['c', 'd', 'e']\n",
      "['a', 'z', 'c', 'd', 'e', 'f', 'g']\n",
      "['a', 'z', 'c', 'd', 'e', 'f', 'g', 'x']\n",
      "['a', 'z', 'd', 'e', 'f', 'g', 'x']\n",
      "['a', 'b', 'c', 1, 2, 3]\n"
     ]
    }
   ],
   "source": [
    "#Python program to demonstrate list operations\n",
    "\n",
    "l=['a','b','c','d','e','f','g'] #creating a list\n",
    "print(l)\n",
    "print(l[1]) #prints element at index 1\n",
    "print(l[2:5]) #prints elements from index 2 to 4\n",
    "\n",
    "#change item value\n",
    "l[1]='z'\n",
    "print(l)\n",
    "\n",
    "#add items to existing list\n",
    "l.append('x')\n",
    "print(l)\n",
    "\n",
    "#delete items from list\n",
    "l.remove('c')\n",
    "print(l)\n",
    "\n",
    "#join 2 lists\n",
    "l=['a','b','c']\n",
    "g=[1,2,3]\n",
    "e=l+g\n",
    "print(e)"
   ]
  },
  {
   "cell_type": "code",
   "execution_count": 10,
   "id": "a975c124-5ab1-428d-beb0-0dc61a90b091",
   "metadata": {},
   "outputs": [
    {
     "name": "stdout",
     "output_type": "stream",
     "text": [
      "('m', 'p', 'c')\n",
      "p\n"
     ]
    },
    {
     "ename": "AttributeError",
     "evalue": "'tuple' object has no attribute 'append'",
     "output_type": "error",
     "traceback": [
      "\u001b[1;31m---------------------------------------------------------------------------\u001b[0m",
      "\u001b[1;31mAttributeError\u001b[0m                            Traceback (most recent call last)",
      "Cell \u001b[1;32mIn[10], line 7\u001b[0m\n\u001b[0;32m      4\u001b[0m \u001b[38;5;28mprint\u001b[39m(t)\n\u001b[0;32m      5\u001b[0m \u001b[38;5;28mprint\u001b[39m(t[\u001b[38;5;241m1\u001b[39m]) \u001b[38;5;66;03m#prints 2nd element in the tuple\u001b[39;00m\n\u001b[1;32m----> 7\u001b[0m t\u001b[38;5;241m.\u001b[39mappend(\u001b[38;5;124m'\u001b[39m\u001b[38;5;124md\u001b[39m\u001b[38;5;124m'\u001b[39m)\n",
      "\u001b[1;31mAttributeError\u001b[0m: 'tuple' object has no attribute 'append'"
     ]
    }
   ],
   "source": [
    "#Python program to demonstrate tuple operations\n",
    "\n",
    "t=('m','p','c') #creating tuple\n",
    "print(t)\n",
    "print(t[1]) #prints 2nd element in the tuple\n",
    "\n",
    "t.append('d') #throws error because tuples are immutable\n"
   ]
  },
  {
   "cell_type": "code",
   "execution_count": 22,
   "id": "5c1bef17-4a67-4ce6-a61e-eb484b7a9761",
   "metadata": {},
   "outputs": [
    {
     "name": "stdout",
     "output_type": "stream",
     "text": [
      "<class 'dict'>\n",
      "{'Name': 'John', 'Age': 29, 'Salary': 25000, 'Company': 'GOOGLE'}\n",
      "{}\n",
      "{1: 'Python', 2: 'Programming', 3: 'Language'}\n",
      "Name\n",
      "Age\n",
      "Salary\n",
      "Company\n",
      "John\n",
      "29\n",
      "25000\n",
      "GOOGLE\n"
     ]
    }
   ],
   "source": [
    "#Pythin program to demonstrate dictionary operations\n",
    "\n",
    "Employee={\n",
    "    \"Name\":\"John\",\n",
    "    \"Age\":29,\n",
    "    \"Salary\":25000,\n",
    "    \"Company\":\"GOOGLE\"\n",
    "}\n",
    "print(type(Employee))\n",
    "print(Employee)\n",
    "\n",
    "#Creating an empty Dictionary using Dict function.\n",
    "Dict={}\n",
    "print(Dict)\n",
    "\n",
    "#Creating a Dictionary with dict() method\n",
    "Dict=dict({1:'Python',2:'Programming',3:'Language'})\n",
    "print(Dict)\n",
    "\n",
    "#printing keys using for loop\n",
    "for x in Employee:\n",
    "    print(x)\n",
    "\n",
    "#printing values using for loop\n",
    "for x in Employee:\n",
    "    print(Employee[x])"
   ]
  },
  {
   "cell_type": "code",
   "execution_count": 24,
   "id": "ed2d20e8-bf62-48e6-b598-c9d836488bec",
   "metadata": {},
   "outputs": [
    {
     "name": "stdout",
     "output_type": "stream",
     "text": [
      "Sum of array: 10\n",
      "Len of array: 4\n",
      "Absolute value: 1234\n",
      "Round value: 1\n",
      "Log value: 2.302585092994046\n"
     ]
    }
   ],
   "source": [
    "#Python Program to demonstrate built-in functions\n",
    "print(\"Sum of array:\",sum([1,2,3,4]))\n",
    "print(\"Len of array:\",len([1,2,3,4]))\n",
    "print('Absolute value:',abs(-1234))\n",
    "print('Round value:',round(1.2234))\n",
    "\n",
    "import math as mt\n",
    "print(\"Log value:\",mt.log(10))"
   ]
  },
  {
   "cell_type": "code",
   "execution_count": 54,
   "id": "4bb0d281-37f9-4afa-a119-65515f7249af",
   "metadata": {},
   "outputs": [
    {
     "name": "stdout",
     "output_type": "stream",
     "text": [
      "Matrix\n",
      " [[1 2 3]\n",
      " [4 5 6]\n",
      " [7 8 9]]\n",
      "Second row: [4 5 6]\n",
      "Third column: [3 6 9]\n",
      "Matrix shape: (3, 3)\n",
      "No. of elements: 9\n",
      "No. of dimensions: 2\n",
      "Avg of matrix: 5.0\n",
      "Max number: 9\n",
      "Column with min numbers: [1 4 7]\n",
      "Diagonal of matrix: [1 5 9]\n",
      "Flattened matrix\n",
      " [1 2 3 4 5 6 7 8 9]\n",
      "Reshaping Matrix\n",
      " [[1]\n",
      " [2]\n",
      " [3]\n",
      " [4]\n",
      " [5]\n",
      " [6]\n",
      " [7]\n",
      " [8]\n",
      " [9]]\n",
      "Transposed Matrix\n",
      " [[1 4 7]\n",
      " [2 5 8]\n",
      " [3 6 9]]\n",
      "Matrix Addition\n",
      " [[ 5  7  9]\n",
      " [ 6  8 12]\n",
      " [10 12 14]]\n",
      "Matrix Addition\n",
      " [[ 5  7  9]\n",
      " [ 6  8 12]\n",
      " [10 12 14]]\n",
      "Broadcast Addition\n",
      " [[ 6  7  8]\n",
      " [ 9 10 11]\n",
      " [12 13 14]]\n",
      "Matrix Multiplication\n",
      " [[ 4 10 18]\n",
      " [ 8 15 36]\n",
      " [21 32 45]]\n",
      "[[1. 1. 1.]\n",
      " [1. 1. 1.]\n",
      " [1. 1. 1.]]\n"
     ]
    }
   ],
   "source": [
    "#Python Program to demonstrate Numpy\n",
    "\n",
    "import numpy as np #importing library\n",
    "\n",
    "#creating matrix\n",
    "matrix=np.array([[1,2,3],[4,5,6],[7,8,9]])\n",
    "print(\"Matrix\\n\",matrix)\n",
    "\n",
    "#accessing particular row,columns\n",
    "print(\"Second row:\",matrix[1,:])\n",
    "print(\"Third column:\",matrix[:,2])\n",
    "\n",
    "#matrix properties\n",
    "print(\"Matrix shape:\",matrix.shape)\n",
    "print(\"No. of elements:\",matrix.size)\n",
    "print(\"No. of dimensions:\",matrix.ndim)\n",
    "print(\"Avg of matrix:\",np.mean(matrix))\n",
    "print(\"Max number:\",np.max(matrix))\n",
    "print(\"Column with min numbers:\",np.min(matrix,axis=1))\n",
    "print(\"Diagonal of matrix:\",matrix.diagonal())\n",
    "\n",
    "#matrix operations\n",
    "print(\"Flattened matrix\\n\",matrix.flatten())\n",
    "print(\"Reshaping Matrix\\n\",matrix.reshape(9,1))\n",
    "print(\"Transposed Matrix\\n\",matrix.T)\n",
    "\n",
    "#matrix addition and multiplication\n",
    "a=np.array([[1,2,3],[4,5,6],[7,8,9]])\n",
    "b=np.array([[4,5,6],[2,3,6],[3,4,5]])\n",
    "print(\"Matrix Addition\\n\",np.add(a,b))\n",
    "print(\"Matrix Addition\\n\",a+b)\n",
    "print(\"Broadcast Addition\\n\",a+5)\n",
    "print(\"Matrix Multiplication\\n\",np.multiply(a,b))\n",
    "\n",
    "M=np.ones((3,3))\n",
    "print(M)"
   ]
  },
  {
   "cell_type": "code",
   "execution_count": 120,
   "id": "d10b08d1-f4bc-46d9-8fc4-71647e06d11f",
   "metadata": {},
   "outputs": [
    {
     "name": "stdin",
     "output_type": "stream",
     "text": [
      "Enter Student Name:  tej\n",
      "Enter Student RollNo:  18\n",
      "Enter Student Department:  cse\n",
      "Enter Student Section:  3\n"
     ]
    },
    {
     "name": "stdout",
     "output_type": "stream",
     "text": [
      "Student Details:\n",
      "Name:  tej\n",
      "RollNo:  18\n",
      "Dept:  cse\n",
      "Sec:  3\n",
      "Student Details:\n",
      "{'Name': 'Tej', 'RollNo': 99, 'Dept': 'CSE', 'Sec': 3}\n",
      "Student Details:\n",
      "Name:  Tej\n",
      "RollNo:  18\n",
      "Dept:  CSE\n",
      "Sec:  3\n"
     ]
    }
   ],
   "source": [
    "# 1. Write a program to print Student Details\n",
    "\n",
    "name=input(\"Enter Student Name: \")\n",
    "roll=input(\"Enter Student RollNo: \")\n",
    "dept=input(\"Enter Student Department: \")\n",
    "sec=input(\"Enter Student Section: \")\n",
    "print(\"Student Details:\")\n",
    "print(\"Name: \",name)\n",
    "print(\"RollNo: \",roll)\n",
    "print(\"Dept: \",dept)\n",
    "print(\"Sec: \",sec)\n",
    "\n",
    "student={\n",
    "    \"Name\":\"Tej\",\n",
    "    \"RollNo\":99,\n",
    "    \"Dept\":\"CSE\",\n",
    "    \"Sec\":3\n",
    "}\n",
    "print(\"Student Details:\")\n",
    "print(student)\n",
    "\n",
    "name = \"Tej\"\n",
    "roll = 18\n",
    "dept =\"CSE\"\n",
    "sec = 3\n",
    "print(\"Student Details:\")\n",
    "print(\"Name: \",name)\n",
    "print(\"RollNo: \",roll)\n",
    "print(\"Dept: \",dept)\n",
    "print(\"Sec: \",sec)"
   ]
  },
  {
   "cell_type": "code",
   "execution_count": 11,
   "id": "2add689e-0bbd-4c5b-a17d-77d3520c74c7",
   "metadata": {},
   "outputs": [
    {
     "name": "stdin",
     "output_type": "stream",
     "text": [
      "Enter a:  5\n",
      "Enter b:  2\n"
     ]
    },
    {
     "name": "stdout",
     "output_type": "stream",
     "text": [
      "Add:  7\n",
      "Sub:  3\n",
      "Mul:  10\n",
      "Div:  2.5\n",
      "Mod:  1\n"
     ]
    }
   ],
   "source": [
    "# 2. Write a program to enter 2 integers & perform all arithmetic operations\n",
    "\n",
    "a=int(input(\"Enter a: \"))\n",
    "b=int(input(\"Enter b: \"))\n",
    "print(\"Add: \",a+b)\n",
    "print(\"Sub: \",a-b)\n",
    "print(\"Mul: \",a*b)\n",
    "print(\"Div: \",a/b)\n",
    "print(\"Mod: \",a%b)"
   ]
  },
  {
   "cell_type": "code",
   "execution_count": 13,
   "id": "98c7e538-edc7-4f1a-ab6a-970e2fa192f3",
   "metadata": {},
   "outputs": [
    {
     "name": "stdin",
     "output_type": "stream",
     "text": [
      "Enter Radius:  5\n"
     ]
    },
    {
     "name": "stdout",
     "output_type": "stream",
     "text": [
      "Area of Circle:  78.53981633974483\n",
      "Circumference of Circle:  31.41592653589793\n"
     ]
    }
   ],
   "source": [
    "# 3. Write a program to calculate area of circle and circumference of circle\n",
    "\n",
    "import math\n",
    "r = int(input(\"Enter Radius: \"))\n",
    "area = math.pi * r **2\n",
    "circumference = 2 * math.pi * r\n",
    "print(\"Area of Circle: \",area)\n",
    "print(\"Circumference of Circle: \",circumference)\n"
   ]
  },
  {
   "cell_type": "code",
   "execution_count": 58,
   "id": "d0e8ba58-6522-47d1-a6e6-574e8d546cb0",
   "metadata": {},
   "outputs": [
    {
     "name": "stdin",
     "output_type": "stream",
     "text": [
      "Enter first number:  7\n",
      "Enter second number:  8\n"
     ]
    },
    {
     "name": "stdout",
     "output_type": "stream",
     "text": [
      "a =  7 b =  8\n",
      "a =  8 b =  7\n"
     ]
    }
   ],
   "source": [
    "# 4. Write a program to swap two numbers without using third variable\n",
    "\n",
    "a = int(input(\"Enter first number: \"))\n",
    "b = int(input(\"Enter second number: \"))\n",
    "print(\"a = \",a,'b = ',b)\n",
    "# a,b = b,a\n",
    "a = a+b\n",
    "b = a-b\n",
    "a=a-b\n",
    "print(\"a = \",a,'b = ',b)"
   ]
  },
  {
   "cell_type": "code",
   "execution_count": 30,
   "id": "ec413805-73ce-42f7-b4e4-5e13ac2127c1",
   "metadata": {},
   "outputs": [
    {
     "name": "stdin",
     "output_type": "stream",
     "text": [
      "Enter number:  4567\n"
     ]
    },
    {
     "name": "stdout",
     "output_type": "stream",
     "text": [
      "7654\n"
     ]
    }
   ],
   "source": [
    "# 5. Python program to display the given integer in reverse manner\n",
    "\n",
    "n=int(input(\"Enter number: \"))\n",
    "# rev = 0\n",
    "# while n!=0:\n",
    "#     d= n%10\n",
    "#     rev = (rev*10)+d\n",
    "#     n=n//10\n",
    "rev = int(str(n)[::-1])\n",
    "print(rev)"
   ]
  },
  {
   "cell_type": "code",
   "execution_count": 32,
   "id": "5f79d836-cb3a-476b-82aa-09d38f8575bf",
   "metadata": {},
   "outputs": [
    {
     "name": "stdin",
     "output_type": "stream",
     "text": [
      "Enter integer:  1234\n"
     ]
    },
    {
     "name": "stdout",
     "output_type": "stream",
     "text": [
      "Sum of digits:  10\n"
     ]
    }
   ],
   "source": [
    "# 6. Python program to find the sum of the digits of an integer using while loop\n",
    "\n",
    "n = int(input(\"Enter integer: \"))\n",
    "sum = 0\n",
    "while n > 0:\n",
    "    sum+=n%10\n",
    "    n = n//10\n",
    "print(\"Sum of digits: \",sum)"
   ]
  },
  {
   "cell_type": "code",
   "execution_count": 40,
   "id": "a50f6c07-a1ee-454d-b684-e247a3f56682",
   "metadata": {},
   "outputs": [
    {
     "name": "stdin",
     "output_type": "stream",
     "text": [
      "Enter n:  1\n"
     ]
    },
    {
     "name": "stdout",
     "output_type": "stream",
     "text": [
      "Fibonacci Series: \n",
      "0 "
     ]
    }
   ],
   "source": [
    "# 7. Python program to print Fibonacci series using iteration\n",
    "\n",
    "n=int(input(\"Enter n: \"))\n",
    "a,b=0,1\n",
    "print(\"Fibonacci Series: \")\n",
    "for _ in range(n):\n",
    "    print(a,end=\" \")\n",
    "    a,b=b,a+b"
   ]
  },
  {
   "cell_type": "code",
   "execution_count": 64,
   "id": "17c75efe-7780-4c6a-bf69-50986cc881d7",
   "metadata": {},
   "outputs": [
    {
     "name": "stdin",
     "output_type": "stream",
     "text": [
      "Enter N for N x N matrix:  3\n"
     ]
    },
    {
     "name": "stdout",
     "output_type": "stream",
     "text": [
      "Enter the elements for matrix A:\n"
     ]
    },
    {
     "name": "stdin",
     "output_type": "stream",
     "text": [
      " 1\n",
      " 5\n",
      " 7\n",
      " 5\n",
      " 1\n",
      " 6\n",
      " 3\n",
      " 4\n",
      " 9\n"
     ]
    },
    {
     "name": "stdout",
     "output_type": "stream",
     "text": [
      "Enter the elements for matrix B:\n"
     ]
    },
    {
     "name": "stdin",
     "output_type": "stream",
     "text": [
      "Enter element at position (1, 1):  3\n",
      "Enter element at position (1, 2):  5\n",
      "Enter element at position (1, 3):  9\n",
      "Enter element at position (2, 1):  4\n",
      "Enter element at position (2, 2):  2\n",
      "Enter element at position (2, 3):  1\n",
      "Enter element at position (3, 1):  8\n",
      "Enter element at position (3, 2):  5\n",
      "Enter element at position (3, 3):  3\n"
     ]
    },
    {
     "name": "stdout",
     "output_type": "stream",
     "text": [
      "\n",
      "Addition of A + B:\n",
      "[4, 10, 16]\n",
      "[9, 3, 7]\n",
      "[11, 9, 12]\n",
      "\n",
      "Multiplication of A * B:\n",
      "[79, 50, 35]\n",
      "[67, 57, 64]\n",
      "[97, 68, 58]\n"
     ]
    }
   ],
   "source": [
    "# 8. Python program to implement matrix addition and multiplication\n",
    "\n",
    "n = int(input(\"Enter N for N x N matrix: \"))\n",
    "\n",
    "A = []\n",
    "B = []\n",
    "\n",
    "print(\"Enter the elements for matrix A:\")\n",
    "for i in range(n):\n",
    "    row = [] \n",
    "    for j in range(n):\n",
    "        row.append(int(input()))\n",
    "    A.append(row)\n",
    "\n",
    "print(\"Enter the elements for matrix B:\")\n",
    "for i in range(n):\n",
    "    row = [] \n",
    "    for j in range(n):\n",
    "        row.append(int(input(f\"Enter element at position ({i+1}, {j+1}): \"))) \n",
    "    B.append(row) \n",
    "\n",
    "result = [[0 for _ in range(n)] for _ in range(n)]\n",
    "\n",
    "#Matrix addition\n",
    "for i in range(n):\n",
    "    for j in range(n):\n",
    "        result[i][j] = A[i][j] + B[i][j]\n",
    "\n",
    "# Display the result\n",
    "print(\"\\nAddition of A + B:\")\n",
    "for row in result:\n",
    "    print(row)\n",
    "\n",
    "result = [[0 for _ in range(n)] for _ in range(n)]\n",
    "\n",
    "# Matrix multiplication\n",
    "for i in range(n):\n",
    "    for j in range(n):\n",
    "        for k in range(n):\n",
    "            result[i][j] += A[i][k] * B[k][j]\n",
    "\n",
    "# Display the result\n",
    "print(\"\\nMultiplication of A * B:\")\n",
    "for row in result:\n",
    "    print(row)\n"
   ]
  },
  {
   "cell_type": "code",
   "execution_count": 70,
   "id": "4381d651-73ed-44bd-866d-490e5b19865b",
   "metadata": {},
   "outputs": [
    {
     "name": "stdout",
     "output_type": "stream",
     "text": [
      "A+B: \n",
      " [[ 4 10 16]\n",
      " [ 9  3  7]\n",
      " [11  9 12]]\n",
      "A*B: \n",
      " [[ 3 25 63]\n",
      " [20  2  6]\n",
      " [24 20 27]]\n"
     ]
    }
   ],
   "source": [
    "# matrix addition and multipication using numpy\n",
    "\n",
    "import numpy as np\n",
    "A = np.array([[1,5,7],[5,1,6],[3,4,9]])\n",
    "B = np.array([[3,5,9],[4,2,1],[8,5,3]])\n",
    "print(\"A+B: \\n\",np.add(A,B))\n",
    "print(\"A*B: \\n\",np.multiply(A,B))"
   ]
  },
  {
   "cell_type": "code",
   "execution_count": 74,
   "id": "ebc21a55-4728-4e22-b14b-30f384c96d48",
   "metadata": {},
   "outputs": [
    {
     "name": "stdin",
     "output_type": "stream",
     "text": [
      "Enter a string:  helloworld\n"
     ]
    },
    {
     "name": "stdout",
     "output_type": "stream",
     "text": [
      "h l o o l "
     ]
    }
   ],
   "source": [
    "# 9. Write a program to accept a string from the user and \n",
    "#display characters that are present at an even index number.\n",
    "are present at an even index number.\n",
    "s = input(\"Enter a string: \")\n",
    "for i in range(0, len(s), 2):\n",
    "    print(s[i], end = \" \")"
   ]
  },
  {
   "cell_type": "code",
   "execution_count": 90,
   "id": "ced331eb-34cc-4f63-a495-7be9f623f3c7",
   "metadata": {},
   "outputs": [
    {
     "name": "stdout",
     "output_type": "stream",
     "text": [
      "Enter numbers:\n"
     ]
    },
    {
     "name": "stdin",
     "output_type": "stream",
     "text": [
      " 5\n",
      " 4\n"
     ]
    },
    {
     "name": "stdout",
     "output_type": "stream",
     "text": [
      "Before swapping: a = 5, b = 4\n",
      "After swapping: a = 4, b = 5\n"
     ]
    }
   ],
   "source": [
    "# 10. Write a program to swap two numbers using functions.\n",
    "\n",
    "def swap(a,b):\n",
    "    return b, a\n",
    "    \n",
    "a = int(input(\"Enter 1st number: \"))\n",
    "b = int(input(\"Enter 2nd number: \"))\n",
    "print(f\"Before swapping: a = {a}, b = {b}\")\n",
    "a,b = swap(a,b)\n",
    "print(f\"After swapping: a = {a}, b = {b}\")"
   ]
  },
  {
   "cell_type": "code",
   "execution_count": 92,
   "id": "a65ba282-b059-441d-954b-44814aa8d3cc",
   "metadata": {},
   "outputs": [
    {
     "name": "stdin",
     "output_type": "stream",
     "text": [
      "Enter a:  4\n",
      "Enter b:  2\n"
     ]
    },
    {
     "name": "stdout",
     "output_type": "stream",
     "text": [
      "GCD of 4, 2 = 2\n"
     ]
    }
   ],
   "source": [
    "# 11. Write a program to calculate the GCD using recursive function\n",
    "def GCD(a,b):\n",
    "    if b == 0:\n",
    "        return a\n",
    "    return GCD(b,a%b)\n",
    "a = int(input(\"Enter a: \"))\n",
    "b = int(input(\"Enter b: \"))\n",
    "res = GCD(a,b)\n",
    "print(f\"GCD of {a}, {b} = {res}\")"
   ]
  },
  {
   "cell_type": "code",
   "execution_count": 104,
   "id": "9b91f825-803b-4b55-ab2b-8ea5e933d64a",
   "metadata": {},
   "outputs": [
    {
     "name": "stdin",
     "output_type": "stream",
     "text": [
      "Enter n:  5\n"
     ]
    },
    {
     "name": "stdout",
     "output_type": "stream",
     "text": [
      "Fibonacci Series:\n",
      "0 1 1 2 3 "
     ]
    }
   ],
   "source": [
    "# 12. Write a program to calculate the Fibonacci Series using recursion\n",
    "def fib(n):\n",
    "    if n == 0 or n == 1:\n",
    "        return n\n",
    "    return fib(n - 1) + fib(n - 2)\n",
    "n = int(input(\"Enter n: \"))\n",
    "print(\"Fibonacci Series:\")\n",
    "for i in range(n):\n",
    "    print(fib(i),end=\" \")"
   ]
  },
  {
   "cell_type": "code",
   "execution_count": 30,
   "id": "deeb6e05-50b0-474e-b18e-3c9fd8a41ca3",
   "metadata": {},
   "outputs": [
    {
     "name": "stdin",
     "output_type": "stream",
     "text": [
      "Enter n:  5\n"
     ]
    },
    {
     "name": "stdout",
     "output_type": "stream",
     "text": [
      "5 is an Armstrong number.\n"
     ]
    }
   ],
   "source": [
    "# 13. Write a program to find the Armstrong Number\n",
    "\n",
    "def is_ArmStrong(num):\n",
    "    n = len(str(num))\n",
    "    total = 0\n",
    "    temp = num\n",
    "    while temp > 0:\n",
    "        digit = temp % 10\n",
    "        total += digit ** n\n",
    "        temp //= 10\n",
    "    return total == num\n",
    "\n",
    "num = int(input(\"Enter n: \"))\n",
    "\n",
    "if is_ArmStrong(num):\n",
    "    print(f\"{num} is an Armstrong number.\")\n",
    "else:\n",
    "    print(f\"{num} is not an Armstrong number.\")\n"
   ]
  }
 ],
 "metadata": {
  "kernelspec": {
   "display_name": "Python [conda env:base] *",
   "language": "python",
   "name": "conda-base-py"
  },
  "language_info": {
   "codemirror_mode": {
    "name": "ipython",
    "version": 3
   },
   "file_extension": ".py",
   "mimetype": "text/x-python",
   "name": "python",
   "nbconvert_exporter": "python",
   "pygments_lexer": "ipython3",
   "version": "3.12.7"
  }
 },
 "nbformat": 4,
 "nbformat_minor": 5
}
