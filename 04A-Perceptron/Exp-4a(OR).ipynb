{
 "cells": [
  {
   "cell_type": "code",
   "execution_count": 2,
   "id": "8713d178-4498-44e6-9261-07a39f39ea5f",
   "metadata": {},
   "outputs": [],
   "source": [
    "import numpy as np"
   ]
  },
  {
   "cell_type": "code",
   "execution_count": 4,
   "id": "1f8863f4-01bb-4c01-8726-1bb4e9a9d9f0",
   "metadata": {},
   "outputs": [],
   "source": [
    "# Step - 1: Initialise Input and Output variables\n",
    "features=np.array([\n",
    "    [0,0],\n",
    "    [0,1],\n",
    "    [1,0],\n",
    "    [1,1]\n",
    "])"
   ]
  },
  {
   "cell_type": "code",
   "execution_count": 6,
   "id": "8040585a-d19e-4dd2-8d19-bb2566a008e9",
   "metadata": {},
   "outputs": [],
   "source": [
    "labels = np.array([0,1,1,1])  # OR Gate"
   ]
  },
  {
   "cell_type": "code",
   "execution_count": 8,
   "id": "9b7c5a64-c270-4a85-a1cd-80ce43e8d667",
   "metadata": {},
   "outputs": [
    {
     "name": "stdin",
     "output_type": "stream",
     "text": [
      "Enter the epochs: 30\n",
      "Enter the Threshold: 0.3\n",
      "Enter the learning rate: 0.4\n",
      "Enter the weights for x0: 0.4\n",
      "Enter the weights for x1: 0.6\n"
     ]
    }
   ],
   "source": [
    "# Step - 2: Intialize the network parameters\n",
    "# epoch (Training Iterations)\n",
    "# Bias = 1, Learning rate = (0 to 1)\n",
    "# input weights (w1, w2)\n",
    "epoch = int(input('Enter the epochs:'))\n",
    "threshold = float(input(\"Enter the Threshold:\"))\n",
    "learning_rate = float(input('Enter the learning rate:'))\n",
    "a=[]\n",
    "a.append(float(input('Enter the weights for x0:')))\n",
    "a.append(float(input('Enter the weights for x1:')))\n",
    "w=np.array(a)"
   ]
  },
  {
   "cell_type": "code",
   "execution_count": 10,
   "id": "9e442d24-8664-4f45-bb52-2e78a5404db2",
   "metadata": {},
   "outputs": [
    {
     "name": "stdout",
     "output_type": "stream",
     "text": [
      "epoch: 0\n",
      "Prediction: 0 where as actual was 0 (error: 0 )\n",
      "Prediction: 1 where as actual was 1 (error: 0 )\n",
      "Prediction: 1 where as actual was 1 (error: 0 )\n",
      "Prediction: 1 where as actual was 1 (error: 0 )\n",
      "--------------------\n"
     ]
    }
   ],
   "source": [
    "for j in range(0,epoch):\n",
    "    print(\"epoch:\",j)\n",
    "    global_delta = 0\n",
    "    for i in range(0,features.shape[0]):\n",
    "        actual = labels[i]\n",
    "        instance = features[i]\n",
    "        x0 = instance[0]\n",
    "        x1 = instance[1]\n",
    "        # print(\"X0:\",x0)\n",
    "        # print(\"X1:\",x1)\n",
    "        sum_unit = x0*w[0]+x1*w[1]\n",
    "        # print(\"Sum value:\",sum_unit)\n",
    "        if sum_unit > threshold:\n",
    "            fire=1\n",
    "        else:\n",
    "            fire=0\n",
    "        delta = actual  - fire\n",
    "        # print(\"Delta:\",delta)\n",
    "        global_delta = global_delta+abs(delta)\n",
    "        print(\"Prediction:\",fire,\"where as actual was\",actual,\"(error:\",delta,\")\")\n",
    "        w[0] = w[0]+delta*learning_rate\n",
    "        w[1] = w[1]+delta*learning_rate\n",
    "    print(\"--------------------\")\n",
    "    if global_delta == 0:\n",
    "        break"
   ]
  },
  {
   "cell_type": "code",
   "execution_count": 12,
   "id": "a13dc598-1a44-4dbf-82fd-b0e8d661ed3c",
   "metadata": {},
   "outputs": [
    {
     "data": {
      "text/plain": [
       "array([0.4, 0.6])"
      ]
     },
     "execution_count": 12,
     "metadata": {},
     "output_type": "execute_result"
    }
   ],
   "source": [
    "w"
   ]
  }
 ],
 "metadata": {
  "kernelspec": {
   "display_name": "Python [conda env:base] *",
   "language": "python",
   "name": "conda-base-py"
  },
  "language_info": {
   "codemirror_mode": {
    "name": "ipython",
    "version": 3
   },
   "file_extension": ".py",
   "mimetype": "text/x-python",
   "name": "python",
   "nbconvert_exporter": "python",
   "pygments_lexer": "ipython3",
   "version": "3.12.7"
  }
 },
 "nbformat": 4,
 "nbformat_minor": 5
}
