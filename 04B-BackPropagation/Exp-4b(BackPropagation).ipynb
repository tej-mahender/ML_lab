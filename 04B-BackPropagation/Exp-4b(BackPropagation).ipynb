{
 "cells": [
  {
   "cell_type": "code",
   "execution_count": 31,
   "id": "d87c6e52-6fc2-47e7-9221-a281f761c5e6",
   "metadata": {},
   "outputs": [],
   "source": [
    "import numpy as np"
   ]
  },
  {
   "cell_type": "code",
   "execution_count": 33,
   "id": "60fc1aca-3c33-447e-9c6f-ed6eb6281dca",
   "metadata": {},
   "outputs": [],
   "source": [
    "# Define sigmoid activation function\n",
    "def sigmoid(x):\n",
    "    return 1/(1+np.exp(-x))\n",
    "# Define derivative of sigmoid function\n",
    "def sigmoid_derivative(x):\n",
    "    return x*(1-x)"
   ]
  },
  {
   "cell_type": "code",
   "execution_count": 35,
   "id": "2c249a15-f35f-494d-ba2f-1f73d02fccf0",
   "metadata": {},
   "outputs": [
    {
     "name": "stdin",
     "output_type": "stream",
     "text": [
      "Enter input data seperated by commas: 0.05,0.1\n"
     ]
    }
   ],
   "source": [
    "# Read input from user\n",
    "input_data = np.array(input(\"Enter input data seperated by commas:\").split(','),dtype=float)"
   ]
  },
  {
   "cell_type": "code",
   "execution_count": 37,
   "id": "e93625e2-0c2b-46db-8ccb-49c47c857718",
   "metadata": {},
   "outputs": [
    {
     "name": "stdin",
     "output_type": "stream",
     "text": [
      "Enter number of hidden layers: 1\n"
     ]
    }
   ],
   "source": [
    "# Read number of hidden layers from user\n",
    "n_hidden_layers = int(input(\"Enter number of hidden layers:\"))"
   ]
  },
  {
   "cell_type": "code",
   "execution_count": 39,
   "id": "0e96e077-ff25-48a2-b801-9f38c28a75b0",
   "metadata": {},
   "outputs": [
    {
     "name": "stdin",
     "output_type": "stream",
     "text": [
      "Enter number of output neurons: 2\n"
     ]
    }
   ],
   "source": [
    "# Read number of output neurons from user\n",
    "n_output_neurons = int(input(\"Enter number of output neurons:\"))"
   ]
  },
  {
   "cell_type": "code",
   "execution_count": 41,
   "id": "f7bb5ce6-64aa-471d-a5c7-f23ba681209d",
   "metadata": {},
   "outputs": [
    {
     "name": "stdin",
     "output_type": "stream",
     "text": [
      "Enter bias value for layer 1 seperated by commas: 0.35\n",
      "Enter bias value for layer 2 seperated by commas: 0.60\n"
     ]
    }
   ],
   "source": [
    "# Read bias values from user\n",
    "bias_values = []\n",
    "for i in range(n_hidden_layers+1):\n",
    "    bias_values.append(np.array(input(f\"Enter bias value for layer {i+1} seperated by commas:\").split(','),dtype = float))"
   ]
  },
  {
   "cell_type": "code",
   "execution_count": 43,
   "id": "6005a945-564d-44c9-9ce5-b0270f54ef88",
   "metadata": {},
   "outputs": [],
   "source": [
    "# Define neural network architecture\n",
    "input_layers_size = input_data.shape[0]\n",
    "hidden_layer_sizes = []\n",
    "weights = []"
   ]
  },
  {
   "cell_type": "code",
   "execution_count": 45,
   "id": "ef1bb95d-cc1a-4efb-8306-52ed45bfce58",
   "metadata": {},
   "outputs": [
    {
     "name": "stdin",
     "output_type": "stream",
     "text": [
      "Enter number of neurons in hidden layer 1: 2\n",
      "Enter weights for input layer to hidden layer 1 seperated by commas: 0.15,0.2,0.25,0.3\n",
      "Enter weights for hidden layer 1 to output layer seperated by commas: 0.4,0.45,0.5,0.55\n"
     ]
    }
   ],
   "source": [
    "for i in range(n_hidden_layers):\n",
    "    hidden_layer_sizes.append(int(input(f\"Enter number of neurons in hidden layer {i+1}:\")))\n",
    "    if i==0:\n",
    "        weights.append(np.array(input(f\"Enter weights for input layer to hidden layer {i+1} seperated by commas:\").split(','),dtype=float).reshape(hidden_layer_sizes[i-1],hidden_layer_sizes[i]))\n",
    "    else:\n",
    "        weights.append(np.array(input(f\"Enter weights for hidden layer {i} to hidden layer {i+1} seperated by commas:\").split(','),dtype=float).reshape(hidden_layer_sizes[i-1],hidden_layer_sizes[i]))\n",
    "weights.append(np.array(input(f\"Enter weights for hidden layer {n_hidden_layers} to output layer seperated by commas:\").split(','),dtype=float).reshape(hidden_layer_sizes[i-1],hidden_layer_sizes[i]))"
   ]
  },
  {
   "cell_type": "code",
   "execution_count": 47,
   "id": "28e2e6ac-fe1d-4c2d-9b4e-f28385ac0bd7",
   "metadata": {},
   "outputs": [],
   "source": [
    "# Set hyperparameters\n",
    "learning_rate = 0.1\n",
    "num_iterations = 1000"
   ]
  },
  {
   "cell_type": "code",
   "execution_count": 49,
   "id": "1469cacb-824c-404f-8e96-f92b4ffa5ac7",
   "metadata": {},
   "outputs": [
    {
     "name": "stdin",
     "output_type": "stream",
     "text": [
      "Enter target output seperated by commas: 0.01,0.99\n"
     ]
    }
   ],
   "source": [
    "# Read target output from user\n",
    "target = np.array(input(f\"Enter target output seperated by commas:\").split(','),dtype=float)"
   ]
  },
  {
   "cell_type": "code",
   "execution_count": 53,
   "id": "bd9e34c5-bd83-4ee8-ab58-300d57521303",
   "metadata": {},
   "outputs": [
    {
     "name": "stdout",
     "output_type": "stream",
     "text": [
      "Final Output: [0.110599  0.9079646]\n",
      "Target Output: [0.01 0.99]\n",
      "Layer 1 weigths: [[0.21754014 0.26409186]\n",
      " [0.38508029 0.42818371]]\n",
      "Layer 2 weigths: [[-2.28652606  1.35816181]\n",
      " [-2.19414584  1.46070254]]\n",
      "Layer 1 biases: [0.35]\n",
      "Layer 2 biases: [0.6]\n"
     ]
    }
   ],
   "source": [
    "# Train the neural network\n",
    "for i in range(num_iterations):\n",
    "    #Feed Forward\n",
    "    hidden_layers = [input_data]\n",
    "    for j in range(len(hidden_layer_sizes)):\n",
    "        hidden_layer = sigmoid(np.dot(hidden_layers[j],weights[j])+bias_values[j])\n",
    "        hidden_layers.append(hidden_layer)\n",
    "    output = sigmoid(np.dot(hidden_layers[-1], weights[-1]) + bias_values[-1])\n",
    "    #Back Propagation\n",
    "    error = output - target\n",
    "    delta = error * sigmoid_derivative(output)\n",
    "    deltas = [delta]\n",
    "    for j in range(len(hidden_layer_sizes)-1, -1, -1):\n",
    "        delta = np.dot(deltas[-1], weights[j+1].T) * sigmoid_derivative(hidden_layers[j+1])\n",
    "        deltas.append(delta)\n",
    "    deltas.reverse()\n",
    "    #Update weights and biases\n",
    "    for j in range(len(hidden_layer_sizes)+1):\n",
    "        if j == 0:\n",
    "            layer_input = input_data\n",
    "        else:\n",
    "            layer_input = hidden_layers[j]\n",
    "        dtran = np.transpose(deltas[j].reshape(-1,1))\n",
    "        x=np.dot(layer_input.reshape(-1,1),dtran)\n",
    "        weights[j] -= learning_rate*x\n",
    "\n",
    "# Print final output and weights\n",
    "print(f\"Final Output: {output}\")\n",
    "print(f\"Target Output: {target}\")\n",
    "for i in range(len(weights)):\n",
    "    print(f\"Layer {i+1} weigths: {weights[i]}\")\n",
    "for i in range(len(bias_values)):\n",
    "    print(f\"Layer {i+1} biases: {bias_values[i]}\")"
   ]
  }
 ],
 "metadata": {
  "kernelspec": {
   "display_name": "Python [conda env:base] *",
   "language": "python",
   "name": "conda-base-py"
  },
  "language_info": {
   "codemirror_mode": {
    "name": "ipython",
    "version": 3
   },
   "file_extension": ".py",
   "mimetype": "text/x-python",
   "name": "python",
   "nbconvert_exporter": "python",
   "pygments_lexer": "ipython3",
   "version": "3.12.7"
  }
 },
 "nbformat": 4,
 "nbformat_minor": 5
}
