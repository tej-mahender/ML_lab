{
 "cells": [
  {
   "cell_type": "code",
   "execution_count": 120,
   "id": "d10b08d1-f4bc-46d9-8fc4-71647e06d11f",
   "metadata": {},
   "outputs": [
    {
     "name": "stdin",
     "output_type": "stream",
     "text": [
      "Enter Student Name:  tej\n",
      "Enter Student RollNo:  18\n",
      "Enter Student Department:  cse\n",
      "Enter Student Section:  3\n"
     ]
    },
    {
     "name": "stdout",
     "output_type": "stream",
     "text": [
      "Student Details:\n",
      "Name:  tej\n",
      "RollNo:  18\n",
      "Dept:  cse\n",
      "Sec:  3\n",
      "Student Details:\n",
      "{'Name': 'Tej', 'RollNo': 99, 'Dept': 'CSE', 'Sec': 3}\n",
      "Student Details:\n",
      "Name:  Tej\n",
      "RollNo:  18\n",
      "Dept:  CSE\n",
      "Sec:  3\n"
     ]
    }
   ],
   "source": [
    "name=input(\"Enter Student Name: \")\n",
    "roll=input(\"Enter Student RollNo: \")\n",
    "dept=input(\"Enter Student Department: \")\n",
    "sec=input(\"Enter Student Section: \")\n",
    "print(\"Student Details:\")\n",
    "print(\"Name: \",name)\n",
    "print(\"RollNo: \",roll)\n",
    "print(\"Dept: \",dept)\n",
    "print(\"Sec: \",sec)\n",
    "\n",
    "student={\n",
    "    \"Name\":\"Tej\",\n",
    "    \"RollNo\":99,\n",
    "    \"Dept\":\"CSE\",\n",
    "    \"Sec\":3\n",
    "}\n",
    "print(\"Student Details:\")\n",
    "print(student)\n",
    "\n",
    "name = \"Tej\"\n",
    "roll = 18\n",
    "dept =\"CSE\"\n",
    "sec = 3\n",
    "print(\"Student Details:\")\n",
    "print(\"Name: \",name)\n",
    "print(\"RollNo: \",roll)\n",
    "print(\"Dept: \",dept)\n",
    "print(\"Sec: \",sec)"
   ]
  },
  {
   "cell_type": "code",
   "execution_count": 11,
   "id": "2add689e-0bbd-4c5b-a17d-77d3520c74c7",
   "metadata": {},
   "outputs": [
    {
     "name": "stdin",
     "output_type": "stream",
     "text": [
      "Enter a:  5\n",
      "Enter b:  2\n"
     ]
    },
    {
     "name": "stdout",
     "output_type": "stream",
     "text": [
      "Add:  7\n",
      "Sub:  3\n",
      "Mul:  10\n",
      "Div:  2.5\n",
      "Mod:  1\n"
     ]
    }
   ],
   "source": [
    "a=int(input(\"Enter a: \"))\n",
    "b=int(input(\"Enter b: \"))\n",
    "print(\"Add: \",a+b)\n",
    "print(\"Sub: \",a-b)\n",
    "print(\"Mul: \",a*b)\n",
    "print(\"Div: \",a/b)\n",
    "print(\"Mod: \",a%b)"
   ]
  },
  {
   "cell_type": "code",
   "execution_count": 13,
   "id": "98c7e538-edc7-4f1a-ab6a-970e2fa192f3",
   "metadata": {},
   "outputs": [
    {
     "name": "stdin",
     "output_type": "stream",
     "text": [
      "Enter Radius:  5\n"
     ]
    },
    {
     "name": "stdout",
     "output_type": "stream",
     "text": [
      "Area of Circle:  78.53981633974483\n",
      "Circumference of Circle:  31.41592653589793\n"
     ]
    }
   ],
   "source": [
    "import math\n",
    "r = int(input(\"Enter Radius: \"))\n",
    "area = math.pi * r **2\n",
    "circumference = 2 * math.pi * r\n",
    "print(\"Area of Circle: \",area)\n",
    "print(\"Circumference of Circle: \",circumference)\n"
   ]
  },
  {
   "cell_type": "code",
   "execution_count": 20,
   "id": "d0e8ba58-6522-47d1-a6e6-574e8d546cb0",
   "metadata": {},
   "outputs": [
    {
     "name": "stdin",
     "output_type": "stream",
     "text": [
      "Enter first number:  6\n",
      "Enter second number:  7\n"
     ]
    },
    {
     "name": "stdout",
     "output_type": "stream",
     "text": [
      "a =  6 b =  7\n",
      "a =  7 b =  6\n"
     ]
    }
   ],
   "source": [
    "a = int(input(\"Enter first number: \"))\n",
    "b = int(input(\"Enter second number: \"))\n",
    "print(\"a = \",a,'b = ',b)\n",
    "# a,b = b,a\n",
    "a = a+b\n",
    "b = a-b\n",
    "a=a-b\n",
    "print(\"a = \",a,'b = ',b)"
   ]
  },
  {
   "cell_type": "code",
   "execution_count": 30,
   "id": "ec413805-73ce-42f7-b4e4-5e13ac2127c1",
   "metadata": {},
   "outputs": [
    {
     "name": "stdin",
     "output_type": "stream",
     "text": [
      "Enter number:  4567\n"
     ]
    },
    {
     "name": "stdout",
     "output_type": "stream",
     "text": [
      "7654\n"
     ]
    }
   ],
   "source": [
    "n=int(input(\"Enter number: \"))\n",
    "# rev = 0\n",
    "# while n!=0:\n",
    "#     d= n%10\n",
    "#     rev = (rev*10)+d\n",
    "#     n=n//10\n",
    "rev = int(str(n)[::-1])\n",
    "print(rev)"
   ]
  },
  {
   "cell_type": "code",
   "execution_count": 32,
   "id": "5f79d836-cb3a-476b-82aa-09d38f8575bf",
   "metadata": {},
   "outputs": [
    {
     "name": "stdin",
     "output_type": "stream",
     "text": [
      "Enter integer:  1234\n"
     ]
    },
    {
     "name": "stdout",
     "output_type": "stream",
     "text": [
      "Sum of digits:  10\n"
     ]
    }
   ],
   "source": [
    "n = int(input(\"Enter integer: \"))\n",
    "sum = 0\n",
    "while n > 0:\n",
    "    sum+=n%10\n",
    "    n = n//10\n",
    "print(\"Sum of digits: \",sum)"
   ]
  },
  {
   "cell_type": "code",
   "execution_count": 40,
   "id": "a50f6c07-a1ee-454d-b684-e247a3f56682",
   "metadata": {},
   "outputs": [
    {
     "name": "stdin",
     "output_type": "stream",
     "text": [
      "Enter n:  1\n"
     ]
    },
    {
     "name": "stdout",
     "output_type": "stream",
     "text": [
      "Fibonacci Series: \n",
      "0 "
     ]
    }
   ],
   "source": [
    "n=int(input(\"Enter n: \"))\n",
    "a,b=0,1\n",
    "print(\"Fibonacci Series: \")\n",
    "for _ in range(n):\n",
    "    print(a,end=\" \")\n",
    "    a,b=b,a+b"
   ]
  },
  {
   "cell_type": "code",
   "execution_count": 64,
   "id": "17c75efe-7780-4c6a-bf69-50986cc881d7",
   "metadata": {},
   "outputs": [
    {
     "name": "stdin",
     "output_type": "stream",
     "text": [
      "Enter N for N x N matrix:  3\n"
     ]
    },
    {
     "name": "stdout",
     "output_type": "stream",
     "text": [
      "Enter the elements for matrix A:\n"
     ]
    },
    {
     "name": "stdin",
     "output_type": "stream",
     "text": [
      " 1\n",
      " 5\n",
      " 7\n",
      " 5\n",
      " 1\n",
      " 6\n",
      " 3\n",
      " 4\n",
      " 9\n"
     ]
    },
    {
     "name": "stdout",
     "output_type": "stream",
     "text": [
      "Enter the elements for matrix B:\n"
     ]
    },
    {
     "name": "stdin",
     "output_type": "stream",
     "text": [
      "Enter element at position (1, 1):  3\n",
      "Enter element at position (1, 2):  5\n",
      "Enter element at position (1, 3):  9\n",
      "Enter element at position (2, 1):  4\n",
      "Enter element at position (2, 2):  2\n",
      "Enter element at position (2, 3):  1\n",
      "Enter element at position (3, 1):  8\n",
      "Enter element at position (3, 2):  5\n",
      "Enter element at position (3, 3):  3\n"
     ]
    },
    {
     "name": "stdout",
     "output_type": "stream",
     "text": [
      "\n",
      "Addition of A + B:\n",
      "[4, 10, 16]\n",
      "[9, 3, 7]\n",
      "[11, 9, 12]\n",
      "\n",
      "Multiplication of A * B:\n",
      "[79, 50, 35]\n",
      "[67, 57, 64]\n",
      "[97, 68, 58]\n"
     ]
    }
   ],
   "source": [
    "n = int(input(\"Enter N for N x N matrix: \"))\n",
    "\n",
    "A = []\n",
    "B = []\n",
    "\n",
    "print(\"Enter the elements for matrix A:\")\n",
    "for i in range(n):\n",
    "    row = [] \n",
    "    for j in range(n):\n",
    "        row.append(int(input()))\n",
    "    A.append(row)\n",
    "\n",
    "print(\"Enter the elements for matrix B:\")\n",
    "for i in range(n):\n",
    "    row = [] \n",
    "    for j in range(n):\n",
    "        row.append(int(input(f\"Enter element at position ({i+1}, {j+1}): \"))) \n",
    "    B.append(row) \n",
    "\n",
    "result = [[0 for _ in range(n)] for _ in range(n)]\n",
    "\n",
    "#Matrix addition\n",
    "for i in range(n):\n",
    "    for j in range(n):\n",
    "        result[i][j] = A[i][j] + B[i][j]\n",
    "\n",
    "# Display the result\n",
    "print(\"\\nAddition of A + B:\")\n",
    "for row in result:\n",
    "    print(row)\n",
    "\n",
    "result = [[0 for _ in range(n)] for _ in range(n)]\n",
    "\n",
    "# Matrix multiplication\n",
    "for i in range(n):\n",
    "    for j in range(n):\n",
    "        for k in range(n):\n",
    "            result[i][j] += A[i][k] * B[k][j]\n",
    "\n",
    "# Display the result\n",
    "print(\"\\nMultiplication of A * B:\")\n",
    "for row in result:\n",
    "    print(row)\n"
   ]
  },
  {
   "cell_type": "code",
   "execution_count": 70,
   "id": "4381d651-73ed-44bd-866d-490e5b19865b",
   "metadata": {},
   "outputs": [
    {
     "name": "stdout",
     "output_type": "stream",
     "text": [
      "A+B: \n",
      " [[ 4 10 16]\n",
      " [ 9  3  7]\n",
      " [11  9 12]]\n",
      "A*B: \n",
      " [[ 3 25 63]\n",
      " [20  2  6]\n",
      " [24 20 27]]\n"
     ]
    }
   ],
   "source": [
    "import numpy as np\n",
    "A = np.array([[1,5,7],[5,1,6],[3,4,9]])\n",
    "B = np.array([[3,5,9],[4,2,1],[8,5,3]])\n",
    "print(\"A+B: \\n\",np.add(A,B))\n",
    "print(\"A*B: \\n\",np.multiply(A,B))"
   ]
  },
  {
   "cell_type": "code",
   "execution_count": 74,
   "id": "ebc21a55-4728-4e22-b14b-30f384c96d48",
   "metadata": {},
   "outputs": [
    {
     "name": "stdin",
     "output_type": "stream",
     "text": [
      "Enter a string:  helloworld\n"
     ]
    },
    {
     "name": "stdout",
     "output_type": "stream",
     "text": [
      "h l o o l "
     ]
    }
   ],
   "source": [
    "s = input(\"Enter a string: \")\n",
    "for i in range(0, len(s), 2):\n",
    "    print(s[i], end = \" \")"
   ]
  },
  {
   "cell_type": "code",
   "execution_count": 90,
   "id": "ced331eb-34cc-4f63-a495-7be9f623f3c7",
   "metadata": {},
   "outputs": [
    {
     "name": "stdout",
     "output_type": "stream",
     "text": [
      "Enter numbers:\n"
     ]
    },
    {
     "name": "stdin",
     "output_type": "stream",
     "text": [
      " 5\n",
      " 4\n"
     ]
    },
    {
     "name": "stdout",
     "output_type": "stream",
     "text": [
      "Before swapping: a = 5, b = 4\n",
      "After swapping: a = 4, b = 5\n"
     ]
    }
   ],
   "source": [
    "def swap(a,b):\n",
    "    return b, a\n",
    "    \n",
    "a = int(input(\"Enter 1st number: \"))\n",
    "b = int(input(\"Enter 2nd number: \"))\n",
    "print(f\"Before swapping: a = {a}, b = {b}\")\n",
    "a,b = swap(a,b)\n",
    "print(f\"After swapping: a = {a}, b = {b}\")"
   ]
  },
  {
   "cell_type": "code",
   "execution_count": 92,
   "id": "a65ba282-b059-441d-954b-44814aa8d3cc",
   "metadata": {},
   "outputs": [
    {
     "name": "stdin",
     "output_type": "stream",
     "text": [
      "Enter a:  4\n",
      "Enter b:  2\n"
     ]
    },
    {
     "name": "stdout",
     "output_type": "stream",
     "text": [
      "GCD of 4, 2 = 2\n"
     ]
    }
   ],
   "source": [
    "def GCD(a,b):\n",
    "    if b == 0:\n",
    "        return a\n",
    "    return GCD(b,a%b)\n",
    "a = int(input(\"Enter a: \"))\n",
    "b = int(input(\"Enter b: \"))\n",
    "res = GCD(a,b)\n",
    "print(f\"GCD of {a}, {b} = {res}\")"
   ]
  },
  {
   "cell_type": "code",
   "execution_count": 104,
   "id": "9b91f825-803b-4b55-ab2b-8ea5e933d64a",
   "metadata": {},
   "outputs": [
    {
     "name": "stdin",
     "output_type": "stream",
     "text": [
      "Enter n:  5\n"
     ]
    },
    {
     "name": "stdout",
     "output_type": "stream",
     "text": [
      "Fibonacci Series:\n",
      "0 1 1 2 3 "
     ]
    }
   ],
   "source": [
    "def fib(n):\n",
    "    if n == 0 or n == 1:\n",
    "        return n\n",
    "    return fib(n - 1) + fib(n - 2)\n",
    "n = int(input(\"Enter n: \"))\n",
    "print(\"Fibonacci Series:\")\n",
    "for i in range(n):\n",
    "    print(fib(i),end=\" \")"
   ]
  },
  {
   "cell_type": "code",
   "execution_count": 118,
   "id": "deeb6e05-50b0-474e-b18e-3c9fd8a41ca3",
   "metadata": {},
   "outputs": [
    {
     "name": "stdin",
     "output_type": "stream",
     "text": [
      "Enter n:  5\n"
     ]
    },
    {
     "name": "stdout",
     "output_type": "stream",
     "text": [
      "5 is an Armstrong number.\n"
     ]
    }
   ],
   "source": [
    "def is_ArmStrong(num):\n",
    "    n = len(str(num))\n",
    "    sum = 0\n",
    "    temp = num\n",
    "    while temp > 0:\n",
    "        digit = temp % 10\n",
    "        sum += digit ** n\n",
    "        temp //= 10\n",
    "    return sum == num\n",
    "\n",
    "num = int(input(\"Enter n: \"))\n",
    "\n",
    "if is_ArmStrong(num):\n",
    "    print(f\"{num} is an Armstrong number.\")\n",
    "else:\n",
    "    print(f\"{num} is not an Armstrong number.\")\n"
   ]
  },
  {
   "cell_type": "code",
   "execution_count": null,
   "id": "cff1c6a3-9565-4583-9405-32ed4de22562",
   "metadata": {},
   "outputs": [],
   "source": []
  }
 ],
 "metadata": {
  "kernelspec": {
   "display_name": "Python [conda env:base] *",
   "language": "python",
   "name": "conda-base-py"
  },
  "language_info": {
   "codemirror_mode": {
    "name": "ipython",
    "version": 3
   },
   "file_extension": ".py",
   "mimetype": "text/x-python",
   "name": "python",
   "nbconvert_exporter": "python",
   "pygments_lexer": "ipython3",
   "version": "3.12.7"
  }
 },
 "nbformat": 4,
 "nbformat_minor": 5
}
