name=input("Enter Student Name: ")
roll=input("Enter Student RollNo: ")
dept=input("Enter Student Department: ")
sec=input("Enter Student Section: ")
print("Student Details:")
print("Name: ",name)
print("RollNo: ",roll)
print("Dept: ",dept)
print("Sec: ",sec)

student={
    "Name":"Tej",
    "RollNo":99,
    "Dept":"CSE",
    "Sec":3
}
print("Student Details:")
print(student)

name = "Tej"
roll = 18
dept ="CSE"
sec = 3
print("Student Details:")
print("Name: ",name)
print("RollNo: ",roll)
print("Dept: ",dept)
print("Sec: ",sec)
